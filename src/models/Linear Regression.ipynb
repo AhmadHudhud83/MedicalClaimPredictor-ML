{
 "cells": [
  {
   "cell_type": "code",
   "execution_count": 20,
   "metadata": {},
   "outputs": [
    {
     "name": "stdout",
     "output_type": "stream",
     "text": [
      "R² (Training): 0.31866196626563714\n",
      "R² (Test): 0.32583817121414604\n"
     ]
    },
    {
     "name": "stderr",
     "output_type": "stream",
     "text": [
      "C:\\Users\\master save\\AppData\\Local\\Temp\\ipykernel_12312\\1066932954.py:12: FutureWarning: A value is trying to be set on a copy of a DataFrame or Series through chained assignment using an inplace method.\n",
      "The behavior will change in pandas 3.0. This inplace method will never work because the intermediate object on which we are setting values always behaves as a copy.\n",
      "\n",
      "For example, when doing 'df[col].method(value, inplace=True)', try using 'df.method({col: value}, inplace=True)' or df[col] = df[col].method(value) instead, to perform the operation inplace on the original object.\n",
      "\n",
      "\n",
      "  dataset['Private Attorney'].replace({0: 'Not Private', 1: 'Private'}, inplace=True)\n",
      "C:\\Users\\master save\\AppData\\Local\\Temp\\ipykernel_12312\\1066932954.py:13: FutureWarning: A value is trying to be set on a copy of a DataFrame or Series through chained assignment using an inplace method.\n",
      "The behavior will change in pandas 3.0. This inplace method will never work because the intermediate object on which we are setting values always behaves as a copy.\n",
      "\n",
      "For example, when doing 'df[col].method(value, inplace=True)', try using 'df.method({col: value}, inplace=True)' or df[col] = df[col].method(value) instead, to perform the operation inplace on the original object.\n",
      "\n",
      "\n",
      "  dataset['Marital Status'].replace({0: 'Divorced', 1: 'Single', 2: 'Married', 3: 'Widowed', 4: 'Unknown'}, inplace=True)\n"
     ]
    }
   ],
   "source": [
   
    "import pandas as pd\n",
    "import numpy as np\n",
    "from sklearn.model_selection import train_test_split\n",
    "from sklearn.linear_model import LinearRegression\n",
    "from sklearn.metrics import mean_absolute_error, mean_squared_error, r2_score\n",
    "\n",
  
    "dataset = pd.read_csv(r\"C:\\Users\\master save\\Downloads\\archive (1)\\medicalmalpractice.csv\")\n",
    "\n",
   
    "dataset['Private Attorney'].replace({0: 'Not Private', 1: 'Private'}, inplace=True)\n",
    "dataset['Marital Status'].replace({0: 'Divorced', 1: 'Single', 2: 'Married', 3: 'Widowed', 4: 'Unknown'}, inplace=True)\n",
    "\n",
   
    "categorical_columns = ['Private Attorney', 'Marital Status', 'Specialty', 'Insurance', 'Gender']\n",
    "dataset = pd.get_dummies(dataset, columns=categorical_columns, drop_first=True)\n",
    "\n",
   
    "X = dataset.drop(columns=['Amount'])\n",
    "y = dataset['Amount']\n",
    "\n",
   
    "X_train, X_test, y_train, y_test = train_test_split(X, y, test_size=0.2, random_state=42)\n",
    "\n",
    
    "linear_model = LinearRegression()\n",
    "\n",

    "linear_model.fit(X_train, y_train)\n",
    "\n",
  
    "y_train_pred = linear_model.predict(X_train)\n",
    "y_test_pred = linear_model.predict(X_test)\n",
    "\n",
   
    "r2_train = r2_score(y_train, y_train_pred)\n",
    "r2_test = r2_score(y_test, y_test_pred)\n",
    "\n",

    "print(\"R² (Training):\", r2_train)\n",
    "print(\"R² (Test):\", r2_test)\n"
   ]
  },
  {
   "cell_type": "code",
   "execution_count": 21,
   "metadata": {},
   "outputs": [
    {
     "name": "stdout",
     "output_type": "stream",
     "text": [
      "Results saved to 'linear_regression_performance.txt'\n"
     ]
    }
   ],
   "source": [
  
    "with open('linear_regression_performance.txt', 'w') as f:\n",
    "    f.write(f\"Model: Linear Regression\\n\")\n",
    "    f.write(f\"Mean Absolute Error: {mean_absolute_error(y_test, y_test_pred):.4f}\\n\")\n",
    "    f.write(f\"Mean Squared Error: {mean_squared_error(y_test, y_test_pred):.4f}\\n\")\n",
    "    f.write(f\"R2 Score on Training Data: {r2_train:.4f}\\n\")\n",
    "    f.write(f\"R2 Score on Test Data: {r2_test:.4f}\\n\")\n",
    "\n",
    "print(\"Results saved to 'linear_regression_performance.txt'\")\n"
   ]
  },
  {
   "cell_type": "code",
   "execution_count": null,
   "metadata": {},
   "outputs": [],
   "source": []
  },
  {
   "cell_type": "code",
   "execution_count": null,
   "metadata": {},
   "outputs": [],
   "source": []
  }
 ],
 "metadata": {
  "kernelspec": {
   "display_name": "myenv",
   "language": "python",
   "name": "python3"
  },
  "language_info": {
   "codemirror_mode": {
    "name": "ipython",
    "version": 3
   },
   "file_extension": ".py",
   "mimetype": "text/x-python",
   "name": "python",
   "nbconvert_exporter": "python",
   "pygments_lexer": "ipython3",
   "version": "3.12.6"
  }
 },
 "nbformat": 4,
 "nbformat_minor": 2
}
